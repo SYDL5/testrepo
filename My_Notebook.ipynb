{
 "cells": [
  {
   "cell_type": "code",
   "execution_count": 1,
   "id": "b66cab1a-e8be-4549-915b-4cf0ad41d88e",
   "metadata": {},
   "outputs": [
    {
     "data": {
      "text/plain": [
       "2"
      ]
     },
     "execution_count": 1,
     "metadata": {},
     "output_type": "execute_result"
    }
   ],
   "source": [
    "1+1\n"
   ]
  },
  {
   "cell_type": "markdown",
   "id": "3d3c7b1a-3401-4d6e-8134-7a298dc8a30f",
   "metadata": {},
   "source": [
    "My title skndad\n"
   ]
  },
  {
   "cell_type": "markdown",
   "id": "bb6fdf73-d001-4af5-aa08-fb2c65e4bcc4",
   "metadata": {},
   "source": []
  }
 ],
 "metadata": {
  "kernelspec": {
   "display_name": "Julia 1.1.1",
   "language": "julia",
   "name": "conda-env-julia-julia-1.1"
  },
  "language_info": {
   "file_extension": ".jl",
   "mimetype": "application/julia",
   "name": "julia",
   "version": "1.1.1"
  }
 },
 "nbformat": 4,
 "nbformat_minor": 5
}
